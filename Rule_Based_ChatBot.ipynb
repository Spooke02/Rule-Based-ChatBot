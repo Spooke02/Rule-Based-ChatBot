{
  "nbformat": 4,
  "nbformat_minor": 0,
  "metadata": {
    "colab": {
      "provenance": []
    },
    "kernelspec": {
      "name": "python3",
      "display_name": "Python 3"
    },
    "language_info": {
      "name": "python"
    }
  },
  "cells": [
    {
      "cell_type": "code",
      "execution_count": 1,
      "metadata": {
        "colab": {
          "base_uri": "https://localhost:8080/"
        },
        "id": "EsyBLqacOrjE",
        "outputId": "5c6e465d-74bd-4d1f-e04b-2ee32c642f14"
      },
      "outputs": [
        {
          "output_type": "stream",
          "name": "stdout",
          "text": [
            "Requirement already satisfied: nltk in /usr/local/lib/python3.10/dist-packages (3.8.1)\n",
            "Requirement already satisfied: click in /usr/local/lib/python3.10/dist-packages (from nltk) (8.1.7)\n",
            "Requirement already satisfied: joblib in /usr/local/lib/python3.10/dist-packages (from nltk) (1.4.2)\n",
            "Requirement already satisfied: regex>=2021.8.3 in /usr/local/lib/python3.10/dist-packages (from nltk) (2024.5.15)\n",
            "Requirement already satisfied: tqdm in /usr/local/lib/python3.10/dist-packages (from nltk) (4.66.4)\n"
          ]
        }
      ],
      "source": [
        "pip install nltk"
      ]
    },
    {
      "cell_type": "code",
      "source": [
        "import nltk\n",
        "from nltk.chat.util import Chat, reflections"
      ],
      "metadata": {
        "id": "lmeKLlNrOzT6"
      },
      "execution_count": 2,
      "outputs": []
    },
    {
      "cell_type": "code",
      "source": [
        "pairs = [\n",
        "    [\n",
        "        r\"my name is (.*)|I am (.*)\",\n",
        "        [\"Hello %1, How are you today ?\\n\",]\n",
        "    ],\n",
        "    [\n",
        "        r\"hi|hey|hello|yo|hi there\",\n",
        "        [\"Hello\\n\", \"Hey there\\n\",]\n",
        "    ],\n",
        "      [\n",
        "        r\"good morning\",\n",
        "        [\"good morning\\n\",]\n",
        "    ],\n",
        "    [\n",
        "        r\"good evening\",\n",
        "        [\"good evening\\n\",]\n",
        "    ],\n",
        "    [\n",
        "        r\"good night\",\n",
        "        [\"good night\\n\",]\n",
        "    ],\n",
        "    [\n",
        "        r\"what is your name ?|who are you\",\n",
        "        [\"I am a Akshat, a bot here to help you!\\n\",]\n",
        "    ],\n",
        "    [\n",
        "        r\"how are you ?\",\n",
        "        [\"I'm doing good\\nHow about You ?\\n\",]\n",
        "    ],\n",
        "    [\n",
        "        r\"sorry (.*)\",\n",
        "        [\"Its alright\\n\",\"Its OK, never mind\\n\",]\n",
        "    ],\n",
        "    [\n",
        "        r\"I am fine\",\n",
        "        [\"Great to hear that, How can I help you?\\n\",]\n",
        "    ],\n",
        "    [\n",
        "        r\"i'm (.*) doing good\",\n",
        "        [\"Nice to hear that\\n\",\"How can I help you?:)\\n\",]\n",
        "    ],\n",
        "    [\n",
        "        r\"i am looking to learn Machine Learning, can u help?|can u suggest a path for studying Machine Learning|How to learn Machine Learning\",\n",
        "        [\"you can go through Machine Learning Course With Python by Siddhardhan at \\n https://www.youtube.com/playlist?list=PLfFghEzKVmjsNtIRwErklMAN8nJmebB0I\\n\"]\n",
        "    ],\n",
        "    [\n",
        "        r\"can u give a better path\",\n",
        "        [\"Sure, here are the steps along with suggested resources for each topic:\\nMathematics and Statistics Foundation\\n- **Linear Algebra**:\\n  - MIT OpenCourseWare: [Linear Algebra](https://ocw.mit.edu/courses/mathematics/18-06-linear-algebra-spring-2010/)\\n  - Linear Algebra and Its Applications by Gilbert Strang: [Book](https://www.amazon.com/Linear-Algebra-Its-Applications-5th/dp/0030105676)\\n- **Calculus**:\\n  - Khan Academy: [Calculus](https://www.khanacademy.org/math/calculus-1)\\n  - Calculus by James Stewart: [Book]https://www.amazon.com/Calculus-8th-James-Stewart/dp/1285740629)\\n- **Probability and Statistics**:\\n  - Khan Academy:\\n[Probability and Statistics](https://www.khanacademy.org/math/statistics-probability)\\n  - Introduction to Probability by Dimitri P. Bertsekas and John N. Tsitsiklis: [Book](https://www.amazon.com/Introduction-Probability-Dimitri-Bertsekas/dp/188652923X)\\n\\n Programming Skills\\n- **Python**:\\n  - Codecademy: [Learn Python](https://www.codecademy.com/learn/learn-python-3)\\n  - Automate the Boring Stuff with Python by Al Sweigart: [Book](https://automatetheboringstuff.com/)\\n- **Libraries**:\\n  - NumPy: [NumPy Documentation](https://numpy.org/doc/)\\n  - Pandas: [Pandas Documentation](https://pandas.pydata.org/docs/)\\n  - Matplotlib: [Matplotlib Documentation](https://matplotlib.org/stable/contents.html)\\n\\n Introduction to Machine Learning\\n- **Basic Concepts**:\\n  - Hands-On Machine Learning with Scikit-Learn, Keras, and TensorFlow by Aurélien Géron: [Book](https://www.oreilly.com/library/view/hands-on-machine-learning/9781492032632/)\\n- **Online Courses**:\\n  - Coursera: [Andrew Ng’s Machine Learning](https://www.coursera.org/learn/machine-learning)\\n  - edX: [Introduction to Machine Learning by MIT](https://www.edx.org/course/introduction-to-machine-learning)\\n\\n Intermediate Machine Learning\\n- **Algorithms**:\\n  - Pattern Recognition and Machine Learning by Christopher Bishop: [Book](https://www.springer.com/gp/book/9780387310732)\\n- **Hands-On Practice**:\\n  - Kaggle: [Kaggle](https://www.kaggle.com/)\\n  - DrivenData: [DrivenData](https://www.drivendata.org/)\\n\\n Deep Learning\\n- **Neural Networks**:\\n  - Deep Learning by Ian Goodfellow, Yoshua Bengio, and Aaron Courville: [Book](https://www.deeplearningbook.org/)\\n- **Frameworks**:\\n  - TensorFlow: [TensorFlow Tutorials](https://www.tensorflow.org/tutorials)\\n  - Keras: [Keras Documentation](https://keras.io/)\\n  - PyTorch: [PyTorch Tutorials](https://pytorch.org/tutorials/)\\n\",]\n",
        "    ],\n",
        "    [\n",
        "        r\"thank you|thanks\",\n",
        "        [\"You're welcome\\n\",]\n",
        "    ],\n",
        "    [\n",
        "        r\"Bye|see you later|see ya\",\n",
        "        [\"Bye take care. See you soon :) \\n\",\"It was nice talking to you. See you soon :)\\n\"]\n",
        "    ],\n",
        "    [\n",
        "        r\"quit\",\n",
        "        [\"Thanks for talking\\n\"]\n",
        "    ],\n",
        "    [\n",
        "        r\"(.*)\",\n",
        "        [\"I'm sorry, I don't understand\\n\"]\n",
        "    ],\n",
        "]\n"
      ],
      "metadata": {
        "id": "WQv-HphRO4lb"
      },
      "execution_count": 41,
      "outputs": []
    },
    {
      "cell_type": "code",
      "source": [
        "def chat():\n",
        "    print(\"Hi! I am a chatbot created by Analytics Vidhya for your service\")\n",
        "    chat = Chat(pairs, reflections)\n",
        "    chat.converse()\n",
        "#initiate the conversation\n",
        "if __name__ == \"__main__\":\n",
        "    chat()"
      ],
      "metadata": {
        "colab": {
          "base_uri": "https://localhost:8080/"
        },
        "id": "oTWdg2x5O5_E",
        "outputId": "47c44b59-2aff-4856-ddf0-33f306ff0650"
      },
      "execution_count": 42,
      "outputs": [
        {
          "output_type": "stream",
          "name": "stdout",
          "text": [
            "Hi! I am a chatbot created by Analytics Vidhya for your service\n",
            ">hi\n",
            "Hey there\n",
            "\n",
            ">bye\n",
            "It was nice talking to you. See you soon :)\n",
            "\n",
            ">quit\n",
            "Thanks for talking\n",
            "\n"
          ]
        }
      ]
    },
    {
      "cell_type": "code",
      "source": [],
      "metadata": {
        "id": "xtorMsnRO7nq"
      },
      "execution_count": null,
      "outputs": []
    }
  ]
}